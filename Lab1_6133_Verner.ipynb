{
 "cells": [
  {
   "cell_type": "markdown",
   "metadata": {},
   "source": [
    "<br>\n",
    "    <center>МИНИСТЕРСТВО НАУКИ И ВЫСШЕГО ОБРАЗОВАНИЯ</center>\n",
    "    <center>федеральное государственное автономное образовательное учреждение высшего образования </center> <center>«Самарский национальный исследовательский университет имени академика С.П. Королева»</center>\n",
    "    <center>(Самарский университет)</center> </br>\n",
    "\n",
    "<br/>\n",
    "\n",
    "<br>\n",
    "<center>Институт \t     информатики и кибернетики</center>                                                   \t  \n",
    "<center>Кафедра \t     технической кибернетики</center>                                                              \t\n",
    "</br>\n",
    "<br/>\n",
    "\n",
    "<br>\n",
    "\n",
    "<br/>\n",
    "<br/>\n",
    "<br/>\n",
    "<br>\n",
    "<center>ОТЧЕТ</center>\n",
    "<center>по лабораторной работе №1</center>\n",
    "\n",
    "<center>«Введение в MapReduce модель на Python»</center>\n",
    "<br/>\n",
    "<center>по дисциплине <strong>«Большие данные»</strong></center>\n",
    "<br/>\n",
    "<center></center>\n",
    "</br>\n",
    "<br/>\n",
    "<br/>\n",
    "<br/>\n",
    "\n",
    "\n",
    "\n",
    "<br>\n",
    "<p style=\"text-align:right;\">Обучающийся: <Вернер К.А.>\n",
    "<br>6133-010402D\n",
    "<br>    \n",
    "<br>Преподаватель: Попов С.Б.\n",
    "</p>\n",
    "<br/>\n",
    "<br/>\n",
    "<br/>\n",
    "    <br/>\n",
    "<br/>\n",
    "<br/>\n",
    "<center>Самара 2024</center>\n"
   ]
  },
  {
   "cell_type": "markdown",
   "metadata": {
    "id": "82OvPKEiEqjc"
   },
   "source": [
    "# Введение в MapReduce модель на Python\n"
   ]
  },
  {
   "cell_type": "code",
   "execution_count": 59,
   "metadata": {
    "id": "JQ2cvXLjICmI"
   },
   "outputs": [],
   "source": [
    "from typing import NamedTuple # requires python 3.6+\n",
    "from typing import Iterator"
   ]
  },
  {
   "cell_type": "code",
   "execution_count": 60,
   "metadata": {
    "id": "yjPHumVwEyEg"
   },
   "outputs": [],
   "source": [
    "def MAP(_, row:NamedTuple):\n",
    "  if (row.gender == 'female'):\n",
    "    yield (row.age, row)\n",
    "    \n",
    "def REDUCE(age:str, rows:Iterator[NamedTuple]):\n",
    "  sum = 0\n",
    "  count = 0\n",
    "  for row in rows:\n",
    "    sum += row.social_contacts\n",
    "    count += 1\n",
    "  if (count > 0):\n",
    "    yield (age, sum/count)\n",
    "  else:\n",
    "    yield (age, 0)"
   ]
  },
  {
   "cell_type": "markdown",
   "metadata": {
    "id": "vBKMgpG_ilaZ"
   },
   "source": [
    "Модель элемента данных"
   ]
  },
  {
   "cell_type": "code",
   "execution_count": 61,
   "metadata": {
    "id": "Rv-XIjhTJPx3"
   },
   "outputs": [],
   "source": [
    "class User(NamedTuple):\n",
    "  id: int\n",
    "  age: str\n",
    "  social_contacts: int\n",
    "  gender: str"
   ]
  },
  {
   "cell_type": "code",
   "execution_count": 62,
   "metadata": {
    "id": "5KV0Ze2vQgu5"
   },
   "outputs": [],
   "source": [
    "input_collection = [\n",
    "    User(id=0, age=55, gender='male', social_contacts=20),\n",
    "    User(id=1, age=25, gender='female', social_contacts=240),\n",
    "    User(id=2, age=25, gender='female', social_contacts=500),\n",
    "    User(id=3, age=33, gender='female', social_contacts=800)\n",
    "]"
   ]
  },
  {
   "cell_type": "markdown",
   "metadata": {
    "id": "YFeqzyZxZIFZ"
   },
   "source": [
    "Функция RECORDREADER моделирует чтение элементов с диска или по сети."
   ]
  },
  {
   "cell_type": "code",
   "execution_count": 63,
   "metadata": {
    "id": "S5HR4E_GQoMJ"
   },
   "outputs": [],
   "source": [
    "def RECORDREADER():\n",
    "  return [(u.id, u) for u in input_collection]"
   ]
  },
  {
   "cell_type": "code",
   "execution_count": 64,
   "metadata": {
    "colab": {
     "base_uri": "https://localhost:8080/",
     "height": 85
    },
    "id": "NeEoWla-ROUy",
    "outputId": "94ca6e0e-4644-4282-acbf-1759d7ba2918"
   },
   "outputs": [
    {
     "data": {
      "text/plain": [
       "[(0, User(id=0, age=55, social_contacts=20, gender='male')),\n",
       " (1, User(id=1, age=25, social_contacts=240, gender='female')),\n",
       " (2, User(id=2, age=25, social_contacts=500, gender='female')),\n",
       " (3, User(id=3, age=33, social_contacts=800, gender='female'))]"
      ]
     },
     "execution_count": 64,
     "metadata": {},
     "output_type": "execute_result"
    }
   ],
   "source": [
    "list(RECORDREADER())"
   ]
  },
  {
   "cell_type": "code",
   "execution_count": 65,
   "metadata": {
    "id": "YB8orgPSZs8M"
   },
   "outputs": [],
   "source": [
    "def flatten(nested_iterable):\n",
    "  for iterable in nested_iterable:\n",
    "    for element in iterable:\n",
    "      yield element"
   ]
  },
  {
   "cell_type": "code",
   "execution_count": 66,
   "metadata": {
    "colab": {
     "base_uri": "https://localhost:8080/",
     "height": 68
    },
    "id": "74oyvDLaRmd5",
    "outputId": "c6147702-7153-47c7-a574-d5fe6abe29a8"
   },
   "outputs": [
    {
     "data": {
      "text/plain": [
       "[(25, User(id=1, age=25, social_contacts=240, gender='female')),\n",
       " (25, User(id=2, age=25, social_contacts=500, gender='female')),\n",
       " (33, User(id=3, age=33, social_contacts=800, gender='female'))]"
      ]
     },
     "execution_count": 66,
     "metadata": {},
     "output_type": "execute_result"
    }
   ],
   "source": [
    "map_output = flatten(map(lambda x: MAP(*x), RECORDREADER()))\n",
    "map_output = list(map_output) # materialize\n",
    "map_output"
   ]
  },
  {
   "cell_type": "code",
   "execution_count": 67,
   "metadata": {
    "id": "8ncYDJ3-VzDn"
   },
   "outputs": [],
   "source": [
    "def groupbykey(iterable):\n",
    "  t = {}\n",
    "  for (k2, v2) in iterable:\n",
    "    t[k2] = t.get(k2, []) + [v2]\n",
    "  return t.items()"
   ]
  },
  {
   "cell_type": "code",
   "execution_count": 68,
   "metadata": {
    "colab": {
     "base_uri": "https://localhost:8080/",
     "height": 85
    },
    "id": "cKzY_6COWOA2",
    "outputId": "e6791b12-e409-47e9-bcd4-e9f8ca8611bd"
   },
   "outputs": [
    {
     "data": {
      "text/plain": [
       "[(25,\n",
       "  [User(id=1, age=25, social_contacts=240, gender='female'),\n",
       "   User(id=2, age=25, social_contacts=500, gender='female')]),\n",
       " (33, [User(id=3, age=33, social_contacts=800, gender='female')])]"
      ]
     },
     "execution_count": 68,
     "metadata": {},
     "output_type": "execute_result"
    }
   ],
   "source": [
    "shuffle_output = groupbykey(map_output)\n",
    "shuffle_output = list(shuffle_output)\n",
    "shuffle_output"
   ]
  },
  {
   "cell_type": "code",
   "execution_count": 69,
   "metadata": {
    "colab": {
     "base_uri": "https://localhost:8080/",
     "height": 34
    },
    "id": "NlA7lkDDYL0t",
    "outputId": "6b25d03f-5c92-4f3b-f500-6d70acd598b7"
   },
   "outputs": [
    {
     "data": {
      "text/plain": [
       "[(25, 370.0), (33, 800.0)]"
      ]
     },
     "execution_count": 69,
     "metadata": {},
     "output_type": "execute_result"
    }
   ],
   "source": [
    "reduce_output = flatten(map(lambda x: REDUCE(*x), shuffle_output))\n",
    "reduce_output = list(reduce_output)\n",
    "reduce_output"
   ]
  },
  {
   "cell_type": "markdown",
   "metadata": {
    "id": "xf6qhHEtd6bI"
   },
   "source": [
    "Все действия одним конвейером!"
   ]
  },
  {
   "cell_type": "code",
   "execution_count": 70,
   "metadata": {
    "colab": {
     "base_uri": "https://localhost:8080/",
     "height": 34
    },
    "id": "dZaQGYxCdpw5",
    "outputId": "3f5c6425-e5c5-49d2-b2cd-ce58a9acc33c"
   },
   "outputs": [
    {
     "data": {
      "text/plain": [
       "[(25, 370.0), (33, 800.0)]"
      ]
     },
     "execution_count": 70,
     "metadata": {},
     "output_type": "execute_result"
    }
   ],
   "source": [
    "list(flatten(map(lambda x: REDUCE(*x), groupbykey(flatten(map(lambda x: MAP(*x), RECORDREADER()))))))"
   ]
  },
  {
   "cell_type": "markdown",
   "metadata": {
    "id": "Vq3EWRIpwSiJ"
   },
   "source": [
    "# **MapReduce**\n",
    "Выделим общую для всех пользователей часть системы в отдельную функцию высшего порядка. Это наиболее простая модель MapReduce, без учёта распределённого хранения данных. \n",
    "\n",
    "Пользователь для решения своей задачи реализует RECORDREADER, MAP, REDUCE."
   ]
  },
  {
   "cell_type": "code",
   "execution_count": 71,
   "metadata": {
    "id": "V1PZeQMwwVjc"
   },
   "outputs": [],
   "source": [
    "def flatten(nested_iterable):\n",
    "  for iterable in nested_iterable:\n",
    "    for element in iterable:\n",
    "      yield element\n",
    "\n",
    "def groupbykey(iterable):\n",
    "  t = {}\n",
    "  for (k2, v2) in iterable:\n",
    "    t[k2] = t.get(k2, []) + [v2]\n",
    "  return t.items()\n",
    "\n",
    "def MapReduce(RECORDREADER, MAP, REDUCE):\n",
    "  return flatten(map(lambda x: REDUCE(*x), groupbykey(flatten(map(lambda x: MAP(*x), RECORDREADER())))))"
   ]
  },
  {
   "cell_type": "markdown",
   "metadata": {
    "id": "iFIVrimep678"
   },
   "source": [
    "## Спецификация MapReduce\n",
    "\n",
    "\n",
    "\n",
    "```\n",
    "f (k1, v1) -> (k2,v2)*\n",
    "g (k2, v2*) -> (k3,v3)*\n",
    " \n",
    "mapreduce ((k1,v1)*) -> (k3,v3)*\n",
    "groupby ((k2,v2)*) -> (k2,v2*)*\n",
    "flatten (e2**) -> e2*\n",
    " \n",
    "mapreduce .map(f).flatten.groupby(k2).map(g).flatten\n",
    "```\n",
    "\n",
    "\n"
   ]
  },
  {
   "cell_type": "markdown",
   "metadata": {
    "id": "QtTFyqke3KGe"
   },
   "source": [
    "# Примеры"
   ]
  },
  {
   "cell_type": "markdown",
   "metadata": {
    "id": "BNhh5763w5Vn"
   },
   "source": [
    "## SQL "
   ]
  },
  {
   "cell_type": "code",
   "execution_count": 47,
   "metadata": {
    "colab": {
     "base_uri": "https://localhost:8080/",
     "height": 34
    },
    "id": "QkyurnvGxBGk",
    "outputId": "84761282-d2ba-435a-e8d7-a85150730e10"
   },
   "outputs": [
    {
     "data": {
      "text/plain": [
       "[(25, 370.0), (33, 800.0)]"
      ]
     },
     "execution_count": 47,
     "metadata": {},
     "output_type": "execute_result"
    }
   ],
   "source": [
    "from typing import NamedTuple # requires python 3.6+\n",
    "from typing import Iterator\n",
    "\n",
    "class User(NamedTuple):\n",
    "  id: int\n",
    "  age: str\n",
    "  social_contacts: int\n",
    "  gender: str\n",
    "    \n",
    "input_collection = [\n",
    "    User(id=0, age=55, gender='male', social_contacts=20),\n",
    "    User(id=1, age=25, gender='female', social_contacts=240),\n",
    "    User(id=2, age=25, gender='female', social_contacts=500),\n",
    "    User(id=3, age=33, gender='female', social_contacts=800)\n",
    "]\n",
    "\n",
    "def MAP(_, row:NamedTuple):\n",
    "  if (row.gender == 'female'):\n",
    "    yield (row.age, row)\n",
    "    \n",
    "def REDUCE(age:str, rows:Iterator[NamedTuple]):\n",
    "  sum = 0\n",
    "  count = 0\n",
    "  for row in rows:\n",
    "    sum += row.social_contacts\n",
    "    count += 1\n",
    "  if (count > 0):\n",
    "    yield (age, sum/count)\n",
    "  else:\n",
    "    yield (age, 0)\n",
    " \n",
    "def RECORDREADER():\n",
    "  return [(u.id, u) for u in input_collection]\n",
    "\n",
    "output = MapReduce(RECORDREADER, MAP, REDUCE)\n",
    "output = list(output)\n",
    "output"
   ]
  },
  {
   "cell_type": "markdown",
   "metadata": {
    "id": "kNKYIeerx0nY"
   },
   "source": [
    "## Matrix-Vector multiplication "
   ]
  },
  {
   "cell_type": "code",
   "execution_count": 48,
   "metadata": {
    "colab": {
     "base_uri": "https://localhost:8080/",
     "height": 102
    },
    "id": "rwcntRcCyi1V",
    "outputId": "606737ab-6b55-455c-931f-4fc45155f8a9"
   },
   "outputs": [
    {
     "data": {
      "text/plain": [
       "[(0, np.float64(3.3108421431374215)),\n",
       " (1, np.float64(3.3108421431374215)),\n",
       " (2, np.float64(3.3108421431374215)),\n",
       " (3, np.float64(3.3108421431374215)),\n",
       " (4, np.float64(3.3108421431374215))]"
      ]
     },
     "execution_count": 48,
     "metadata": {},
     "output_type": "execute_result"
    }
   ],
   "source": [
    "from typing import Iterator\n",
    "import numpy as np\n",
    "\n",
    "mat = np.ones((5,4))\n",
    "vec = np.random.rand(4) # in-memory vector in all map tasks\n",
    "\n",
    "def MAP(coordinates:(int, int), value:int):\n",
    "  i, j = coordinates\n",
    "  yield (i, value*vec[j])\n",
    " \n",
    "def REDUCE(i:int, products:Iterator[NamedTuple]):\n",
    "  sum = 0\n",
    "  for p in products:\n",
    "    sum += p\n",
    "  yield (i, sum)\n",
    "\n",
    "def RECORDREADER():\n",
    "  for i in range(mat.shape[0]):\n",
    "    for j in range(mat.shape[1]):\n",
    "      yield ((i, j), mat[i,j])\n",
    "      \n",
    "output = MapReduce(RECORDREADER, MAP, REDUCE)\n",
    "output = list(output)\n",
    "output"
   ]
  },
  {
   "cell_type": "markdown",
   "metadata": {
    "id": "ruZREYdi2o4O"
   },
   "source": [
    "## Inverted index "
   ]
  },
  {
   "cell_type": "code",
   "execution_count": 49,
   "metadata": {
    "colab": {
     "base_uri": "https://localhost:8080/",
     "height": 102
    },
    "id": "vt9H9Alf3TYv",
    "outputId": "51aeffc9-e111-4607-bd84-cfcc7b56f238"
   },
   "outputs": [
    {
     "data": {
      "text/plain": [
       "[('what', ['0', '1']),\n",
       " ('it', ['0', '1', '2']),\n",
       " ('is', ['0', '1', '2']),\n",
       " ('banana', ['2']),\n",
       " ('a', ['2'])]"
      ]
     },
     "execution_count": 49,
     "metadata": {},
     "output_type": "execute_result"
    }
   ],
   "source": [
    "from typing import Iterator\n",
    "\n",
    "d1 = \"it is what it is\"\n",
    "d2 = \"what is it\"\n",
    "d3 = \"it is a banana\"\n",
    "documents = [d1, d2, d3]\n",
    "\n",
    "def RECORDREADER():\n",
    "  for (docid, document) in enumerate(documents):\n",
    "    yield (\"{}\".format(docid), document)\n",
    "      \n",
    "def MAP(docId:str, body:str):\n",
    "  for word in set(body.split(' ')):\n",
    "    yield (word, docId)\n",
    " \n",
    "def REDUCE(word:str, docIds:Iterator[str]):\n",
    "  yield (word, sorted(docIds))\n",
    "\n",
    "output = MapReduce(RECORDREADER, MAP, REDUCE)\n",
    "output = list(output)\n",
    "output"
   ]
  },
  {
   "cell_type": "markdown",
   "metadata": {
    "id": "R7az-6DA6qr2"
   },
   "source": [
    "## WordCount"
   ]
  },
  {
   "cell_type": "code",
   "execution_count": 50,
   "metadata": {
    "colab": {
     "base_uri": "https://localhost:8080/",
     "height": 34
    },
    "id": "dN-nbtgG6uYG",
    "outputId": "24117576-7931-401d-a581-28e246b23453"
   },
   "outputs": [
    {
     "data": {
      "text/plain": [
       "[('', 3), ('it', 9), ('is', 9), ('what', 5), ('a', 1), ('banana', 1)]"
      ]
     },
     "execution_count": 50,
     "metadata": {},
     "output_type": "execute_result"
    }
   ],
   "source": [
    "from typing import Iterator\n",
    "\n",
    "d1 = \"\"\"\n",
    "it is what it is\n",
    "it is what it is\n",
    "it is what it is\"\"\"\n",
    "d2 = \"\"\"\n",
    "what is it\n",
    "what is it\"\"\"\n",
    "d3 = \"\"\"\n",
    "it is a banana\"\"\"\n",
    "documents = [d1, d2, d3]\n",
    "\n",
    "def RECORDREADER():\n",
    "  for (docid, document) in enumerate(documents):\n",
    "    for (lineid, line) in enumerate(document.split('\\n')):\n",
    "      yield (\"{}:{}\".format(docid,lineid), line)\n",
    "\n",
    "def MAP(docId:str, line:str):\n",
    "  for word in line.split(\" \"):  \n",
    "    yield (word, 1)\n",
    " \n",
    "def REDUCE(word:str, counts:Iterator[int]):\n",
    "  sum = 0\n",
    "  for c in counts:\n",
    "    sum += c\n",
    "  yield (word, sum)\n",
    "\n",
    "output = MapReduce(RECORDREADER, MAP, REDUCE)\n",
    "output = list(output)\n",
    "output"
   ]
  },
  {
   "cell_type": "markdown",
   "metadata": {
    "id": "h-jRAcYCAkkk"
   },
   "source": [
    "# MapReduce Distributed\n",
    "\n",
    "Добавляется в модель фабрика RECORDREARER-ов --- INPUTFORMAT, функция распределения промежуточных результатов по партициям PARTITIONER, и функция COMBINER для частичной аггрегации промежуточных результатов до распределения по новым партициям."
   ]
  },
  {
   "cell_type": "code",
   "execution_count": 51,
   "metadata": {
    "id": "nw-b-xJsApgW"
   },
   "outputs": [],
   "source": [
    "def flatten(nested_iterable):\n",
    "  for iterable in nested_iterable:\n",
    "    for element in iterable:\n",
    "      yield element\n",
    "\n",
    "def groupbykey(iterable):\n",
    "  t = {}\n",
    "  for (k2, v2) in iterable:\n",
    "    t[k2] = t.get(k2, []) + [v2]\n",
    "  return t.items()\n",
    "      \n",
    "def groupbykey_distributed(map_partitions, PARTITIONER):\n",
    "  global reducers\n",
    "  partitions = [dict() for _ in range(reducers)]\n",
    "  for map_partition in map_partitions:\n",
    "    for (k2, v2) in map_partition:\n",
    "      p = partitions[PARTITIONER(k2)]\n",
    "      p[k2] = p.get(k2, []) + [v2]\n",
    "  return [(partition_id, sorted(partition.items(), key=lambda x: x[0])) for (partition_id, partition) in enumerate(partitions)]\n",
    " \n",
    "def PARTITIONER(obj):\n",
    "  global reducers\n",
    "  return hash(obj) % reducers\n",
    "  \n",
    "def MapReduceDistributed(INPUTFORMAT, MAP, REDUCE, PARTITIONER=PARTITIONER, COMBINER=None):\n",
    "  map_partitions = map(lambda record_reader: flatten(map(lambda k1v1: MAP(*k1v1), record_reader)), INPUTFORMAT())\n",
    "  if COMBINER != None:\n",
    "    map_partitions = map(lambda map_partition: flatten(map(lambda k2v2: COMBINER(*k2v2), groupbykey(map_partition))), map_partitions)\n",
    "  reduce_partitions = groupbykey_distributed(map_partitions, PARTITIONER) # shuffle\n",
    "  reduce_outputs = map(lambda reduce_partition: (reduce_partition[0], flatten(map(lambda reduce_input_group: REDUCE(*reduce_input_group), reduce_partition[1]))), reduce_partitions)\n",
    "  \n",
    "  print(\"{} key-value pairs were sent over a network.\".format(sum([len(vs) for (k,vs) in flatten([partition for (partition_id, partition) in reduce_partitions])])))\n",
    "  return reduce_outputs"
   ]
  },
  {
   "cell_type": "markdown",
   "metadata": {
    "id": "kxirlf3XqZxY"
   },
   "source": [
    "## Спецификация MapReduce Distributed\n",
    "\n",
    "\n",
    "```\n",
    "f (k1, v1) -> (k2,v2)*\n",
    "g (k2, v2*) -> (k3,v3)*\n",
    " \n",
    "e1 (k1, v1)\n",
    "e2 (k2, v2)\n",
    "partition1 (k2, v2)*\n",
    "partition2 (k2, v2*)*\n",
    " \n",
    "flatmap (e1->e2*, e1*) -> partition1*\n",
    "groupby (partition1*) -> partition2*\n",
    "\n",
    "mapreduce ((k1,v1)*) -> (k3,v3)*\n",
    "mapreduce .flatmap(f).groupby(k2).flatmap(g)\n",
    "```\n",
    "\n"
   ]
  },
  {
   "cell_type": "markdown",
   "metadata": {
    "id": "CWYw_CpbbY3C"
   },
   "source": [
    "## WordCount "
   ]
  },
  {
   "cell_type": "code",
   "execution_count": 52,
   "metadata": {
    "colab": {
     "base_uri": "https://localhost:8080/",
     "height": 68
    },
    "id": "uR_zfGFkMZlp",
    "outputId": "c8d46167-473d-43b9-881a-2396991b3731"
   },
   "outputs": [
    {
     "name": "stdout",
     "output_type": "stream",
     "text": [
      "56 key-value pairs were sent over a network.\n"
     ]
    },
    {
     "data": {
      "text/plain": [
       "[(0, [('', 6), ('banana', 2), ('it', 18)]),\n",
       " (1, [('a', 2), ('is', 18), ('what', 10)])]"
      ]
     },
     "execution_count": 52,
     "metadata": {},
     "output_type": "execute_result"
    }
   ],
   "source": [
    "from typing import Iterator\n",
    "import numpy as np\n",
    "\n",
    "d1 = \"\"\"\n",
    "it is what it is\n",
    "it is what it is\n",
    "it is what it is\"\"\"\n",
    "d2 = \"\"\"\n",
    "what is it\n",
    "what is it\"\"\"\n",
    "d3 = \"\"\"\n",
    "it is a banana\"\"\"\n",
    "documents = [d1, d2, d3, d1, d2, d3]\n",
    "\n",
    "maps = 3\n",
    "reducers = 2\n",
    "\n",
    "def INPUTFORMAT():\n",
    "  global maps\n",
    "  \n",
    "  def RECORDREADER(split):\n",
    "    for (docid, document) in enumerate(split):\n",
    "      for (lineid, line) in enumerate(document.split('\\n')):\n",
    "        yield (\"{}:{}\".format(docid,lineid), line)\n",
    "      \n",
    "  split_size =  int(np.ceil(len(documents)/maps))\n",
    "  for i in range(0, len(documents), split_size):\n",
    "    yield RECORDREADER(documents[i:i+split_size])\n",
    "\n",
    "def MAP(docId:str, line:str):\n",
    "  for word in line.split(\" \"):  \n",
    "    yield (word, 1)\n",
    " \n",
    "def REDUCE(word:str, counts:Iterator[int]):\n",
    "  sum = 0\n",
    "  for c in counts:\n",
    "    sum += c\n",
    "  yield (word, sum)\n",
    "  \n",
    "# try to set COMBINER=REDUCE and look at the number of values sent over the network \n",
    "partitioned_output = MapReduceDistributed(INPUTFORMAT, MAP, REDUCE, COMBINER=None) \n",
    "partitioned_output = [(partition_id, list(partition)) for (partition_id, partition) in partitioned_output]\n",
    "partitioned_output"
   ]
  },
  {
   "cell_type": "markdown",
   "metadata": {
    "id": "gCJGx8IQ87xS"
   },
   "source": [
    "## TeraSort"
   ]
  },
  {
   "cell_type": "code",
   "execution_count": 53,
   "metadata": {
    "colab": {
     "base_uri": "https://localhost:8080/",
     "height": 578
    },
    "id": "P2v8v1v_8_YR",
    "outputId": "e0987c25-9757-46cb-8e55-d5d2adfbee2b"
   },
   "outputs": [
    {
     "name": "stdout",
     "output_type": "stream",
     "text": [
      "30 key-value pairs were sent over a network.\n"
     ]
    },
    {
     "data": {
      "text/plain": [
       "[(0,\n",
       "  [(None, np.float64(0.07922552577665898)),\n",
       "   (None, np.float64(0.08212286132034718)),\n",
       "   (None, np.float64(0.09345653989825098)),\n",
       "   (None, np.float64(0.11700825078983756)),\n",
       "   (None, np.float64(0.14503084327566973)),\n",
       "   (None, np.float64(0.15442532515977792)),\n",
       "   (None, np.float64(0.18035936284720877)),\n",
       "   (None, np.float64(0.20235396632136493)),\n",
       "   (None, np.float64(0.22815342187552634)),\n",
       "   (None, np.float64(0.3348895100226985)),\n",
       "   (None, np.float64(0.45607915234035035))]),\n",
       " (1,\n",
       "  [(None, np.float64(0.5015694162691973)),\n",
       "   (None, np.float64(0.5074839486922768)),\n",
       "   (None, np.float64(0.5120925285292102)),\n",
       "   (None, np.float64(0.5125797896277554)),\n",
       "   (None, np.float64(0.5135424375042345)),\n",
       "   (None, np.float64(0.5751740915833414)),\n",
       "   (None, np.float64(0.607941270454949)),\n",
       "   (None, np.float64(0.6316591901680284)),\n",
       "   (None, np.float64(0.6424165694293797)),\n",
       "   (None, np.float64(0.6867997088011956)),\n",
       "   (None, np.float64(0.7006477242201509)),\n",
       "   (None, np.float64(0.7639607794512299)),\n",
       "   (None, np.float64(0.8275961590259927)),\n",
       "   (None, np.float64(0.8703906139102877)),\n",
       "   (None, np.float64(0.8852245017208688)),\n",
       "   (None, np.float64(0.897659641695295)),\n",
       "   (None, np.float64(0.9239861888597202)),\n",
       "   (None, np.float64(0.9367447645323881)),\n",
       "   (None, np.float64(0.9780327269609752))])]"
      ]
     },
     "execution_count": 53,
     "metadata": {},
     "output_type": "execute_result"
    }
   ],
   "source": [
    "import numpy as np\n",
    "\n",
    "input_values = np.random.rand(30)\n",
    "maps = 3\n",
    "reducers = 2\n",
    "min_value = 0.0\n",
    "max_value = 1.0\n",
    "\n",
    "def INPUTFORMAT():\n",
    "  global maps\n",
    "  \n",
    "  def RECORDREADER(split):\n",
    "    for value in split:\n",
    "        yield (value, None)\n",
    "      \n",
    "  split_size =  int(np.ceil(len(input_values)/maps))\n",
    "  for i in range(0, len(input_values), split_size):\n",
    "    yield RECORDREADER(input_values[i:i+split_size])\n",
    "    \n",
    "def MAP(value:int, _):\n",
    "  yield (value, None)\n",
    "  \n",
    "def PARTITIONER(key):\n",
    "  global reducers\n",
    "  global max_value\n",
    "  global min_value\n",
    "  bucket_size = (max_value-min_value)/reducers\n",
    "  bucket_id = 0\n",
    "  while((key>(bucket_id+1)*bucket_size) and ((bucket_id+1)*bucket_size<max_value)):\n",
    "    bucket_id += 1\n",
    "  return bucket_id\n",
    "\n",
    "def REDUCE(value:int, _):\n",
    "  yield (None,value)\n",
    "  \n",
    "partitioned_output = MapReduceDistributed(INPUTFORMAT, MAP, REDUCE, COMBINER=None, PARTITIONER=PARTITIONER)\n",
    "partitioned_output = [(partition_id, list(partition)) for (partition_id, partition) in partitioned_output]\n",
    "partitioned_output"
   ]
  },
  {
   "cell_type": "code",
   "execution_count": null,
   "metadata": {
    "id": "MQhoJaVZI93G"
   },
   "outputs": [],
   "source": []
  },
  {
   "cell_type": "markdown",
   "metadata": {
    "id": "Iy65YJTH99iT"
   },
   "source": [
    "# Упражнения\n",
    "Упражнения взяты из Rajaraman A., Ullman J. D. Mining of massive datasets. – Cambridge University Press, 2011.\n",
    "\n",
    "\n",
    "Для выполнения заданий переопределите функции RECORDREADER, MAP, REDUCE. Для модели распределённой системы может потребоваться переопределение функций PARTITION и COMBINER."
   ]
  },
  {
   "cell_type": "markdown",
   "metadata": {
    "id": "cfvAeZm3S8S8"
   },
   "source": [
    "### Максимальное значение ряда\n",
    "\n",
    "Разработайте MapReduce алгоритм, который находит максимальное число входного списка чисел."
   ]
  },
  {
   "cell_type": "code",
   "execution_count": 54,
   "metadata": {
    "id": "3GRA1JR-Tkbg"
   },
   "outputs": [
    {
     "name": "stdout",
     "output_type": "stream",
     "text": [
      "[15, 17, 5, 7, 19, 4, 2, 3, 29, 17, 16, 14, 6, 27, 23]\n",
      "[(None, 29)]\n"
     ]
    }
   ],
   "source": [
    "import numpy as np\n",
    "\n",
    "# Входные данные: список чисел\n",
    "input_values = 0\n",
    "split = []\n",
    "for input_values in range(0, 15):\n",
    "    input_values = np.random.randint(30)\n",
    "    split.append(input_values)\n",
    "print(split)\n",
    "def MAP(values:int, key):\n",
    "    yield key, values\n",
    "def REDUCE(key, values):\n",
    "    max_value = max(values)  # Находим максимальное значение в списке\n",
    "    yield (key, max_value)  # Возвращаем пару (ключ, максимальное значение)\n",
    "def RECORDREADER():\n",
    "    for value in split:\n",
    "        yield None, value\n",
    "def MapReduce(MAP, REDUCE, RECORDREADER):\n",
    "    reducers = {}\n",
    "    for key, value in RECORDREADER():\n",
    "        if key not in reducers:\n",
    "            reducers[key] = []\n",
    "        reducers[key].append(value)\n",
    "    for key in reducers:\n",
    "        for _, max_value in REDUCE(key, reducers[key]):\n",
    "            yield (key, max_value)\n",
    "output = MapReduce(MAP, REDUCE, RECORDREADER)\n",
    "output = list(output)\n",
    "print(output)"
   ]
  },
  {
   "cell_type": "markdown",
   "metadata": {
    "id": "k86bXnqZTk-U"
   },
   "source": [
    "### Арифметическое среднее\n",
    "\n",
    "Разработайте MapReduce алгоритм, который находит арифметическое среднее.\n",
    "\n",
    "$$\\overline{X} = \\frac{1}{n}\\sum_{i=0}^{n} x_i$$\n"
   ]
  },
  {
   "cell_type": "code",
   "execution_count": 55,
   "metadata": {
    "id": "MPoY5pkfUNZf"
   },
   "outputs": [
    {
     "name": "stdout",
     "output_type": "stream",
     "text": [
      "[14, 16, 15, 18, 7, 1, 22, 20, 28, 8, 29, 10, 0, 27, 13]\n",
      "[(None, 15.2)]\n"
     ]
    }
   ],
   "source": [
    "import numpy as np\n",
    "\n",
    "storage = []\n",
    "for el in range(0, 15):\n",
    "    number = np.random.randint(30)\n",
    "    storage.append(number)\n",
    "print(storage)\n",
    "\n",
    "maps = 2\n",
    "reducers = 3\n",
    "\n",
    "def MAP(value: int, num):\n",
    "    yield (value, num)\n",
    "\n",
    "def REDUCE(storage):\n",
    "    total_sum = sum(storage)\n",
    "    count = len(storage)\n",
    "    avg = total_sum / count if count > 0 else 0\n",
    "    return avg\n",
    "\n",
    "def RECORDREADER():\n",
    "    for value in storage:\n",
    "        yield None, value\n",
    "\n",
    "def MapReduce(MAP, REDUCE, RECORDREADER):\n",
    "    reducers = {}\n",
    "    for key, value in RECORDREADER():\n",
    "        if key not in reducers:\n",
    "            reducers[key] = []\n",
    "        reducers[key].append(value)\n",
    "\n",
    "    for key in reducers:\n",
    "        avg = REDUCE(reducers[key])  # Здесь мы вызываем REDUCE с одним аргументом\n",
    "        yield (key, avg)\n",
    "\n",
    "output = list(MapReduce(MAP, REDUCE, RECORDREADER))\n",
    "print(output)\n"
   ]
  },
  {
   "cell_type": "markdown",
   "metadata": {
    "id": "xanzszhsIlLe"
   },
   "source": [
    "### GroupByKey на основе сортировки\n",
    "\n",
    "Реализуйте groupByKey на основе сортировки, проверьте его работу на примерах"
   ]
  },
  {
   "cell_type": "code",
   "execution_count": 56,
   "metadata": {
    "id": "hQPn3USsIkEC"
   },
   "outputs": [
    {
     "name": "stdout",
     "output_type": "stream",
     "text": [
      "[(0, [0]), (1, [1]), (2, [2, 2]), (4, [4]), (5, [5]), (8, [8, 8]), (9, [9])]\n"
     ]
    }
   ],
   "source": [
    "def groupbykey(sortied):\n",
    "  sortied = [(num, num) for num in sorted(sortied)]\n",
    "  t = {}\n",
    "  for k1, v1 in sortied:\n",
    "    t[k1] = t.get(k1, []) + [v1]\n",
    "  return t.items()\n",
    "sortied = [1,5,2,2,4,8,8,9,0]\n",
    "output = groupbykey(sortied)  \n",
    "print(list(output))"
   ]
  },
  {
   "cell_type": "markdown",
   "metadata": {
    "id": "5SgEjCZyGnu6"
   },
   "source": [
    "### Drop duplicates (set construction, unique elements, distinct)\n",
    "\n",
    "Реализуйте распределённую операцию исключения дубликатов"
   ]
  },
  {
   "cell_type": "code",
   "execution_count": 57,
   "metadata": {
    "id": "okjbyApjGhMt"
   },
   "outputs": [
    {
     "name": "stdout",
     "output_type": "stream",
     "text": [
      "6 key-value pairs were sent over a network.\n",
      "[(0, [User(id=0, age=55, social_contacts=20, gender='male'), User(id=3, age=33, social_contacts=800, gender='female')]), (1, [User(id=1, age=25, social_contacts=240, gender='female')]), (2, [User(id=2, age=25, social_contacts=500, gender='female')])]\n"
     ]
    }
   ],
   "source": [
    "input_collection = [\n",
    "    User(id=0, age=55, gender='male', social_contacts=20),\n",
    "    User(id=0, age=55, gender='male', social_contacts=20),\n",
    "    User(id=0, age=55, gender='male', social_contacts=20),\n",
    "    User(id=1, age=25, gender='female', social_contacts=240),\n",
    "    User(id=2, age=25, gender='female', social_contacts=500),\n",
    "    User(id=3, age=33, gender='female', social_contacts=800)\n",
    "]\n",
    "\n",
    "maps = 3\n",
    "reducers = 3\n",
    "\n",
    "def INPUTFORMAT():\n",
    "    global maps\n",
    "\n",
    "    def RECORDREADER(split):\n",
    "        for userindex, user in enumerate(split): #enumerate встроенная функция которая добавляет к счетчик к итерируемому объекту и возвращает его\n",
    "            yield (userindex, user)\n",
    "    \n",
    "    split_size = int(np.ceil(len(input_collection)/ maps)) #Функция ceil округляет в большую сторону числа\n",
    "    for i in range(0, len(input_collection), split_size):\n",
    "        yield RECORDREADER(input_collection[i : i + split_size])\n",
    "\n",
    "def MAP(_, user:str):\n",
    "    yield (user.id, user)\n",
    "\n",
    "def REDUCE(user_id: int, users: Iterator[int]):\n",
    "    yield users[0]\n",
    "\n",
    "partitioned_output = MapReduceDistributed(INPUTFORMAT, MAP, REDUCE, COMBINER=None)\n",
    "partitioned_output = [(partition_id, list(partition)) for (partition_id, partition) in partitioned_output]\n",
    "print(partitioned_output)"
   ]
  },
  {
   "cell_type": "markdown",
   "metadata": {
    "id": "e7sRGoTXuJze"
   },
   "source": [
    "## Операторы реляционной алгебры\n",
    "### Selection (Выборка)\n",
    "\n",
    "**The Map Function**: Для  каждого кортежа $t \\in R$ вычисляется истинность предиката $C$. В случае истины создаётся пара ключ-значение $(t, t)$. В паре ключ и значение одинаковы, равны $t$.\n",
    "\n",
    "**The Reduce Function:** Роль функции Reduce выполняет функция идентичности, которая возвращает то же значение, что получила на вход.\n",
    "\n"
   ]
  },
  {
   "cell_type": "code",
   "execution_count": 75,
   "metadata": {
    "id": "4nKIKe59uIfc"
   },
   "outputs": [
    {
     "data": {
      "text/plain": [
       "[(User(id=2, age=25, social_contacts=500, gender='female'),\n",
       "  [User(id=2, age=25, social_contacts=500, gender='female')]),\n",
       " (User(id=3, age=33, social_contacts=800, gender='female'),\n",
       "  [User(id=3, age=33, social_contacts=800, gender='female')])]"
      ]
     },
     "execution_count": 75,
     "metadata": {},
     "output_type": "execute_result"
    }
   ],
   "source": [
    "input_collection = [\n",
    "    User(id=0, age=55, gender='male', social_contacts=20),\n",
    "    User(id=1, age=25, gender='female', social_contacts=240),\n",
    "    User(id=2, age=25, gender='female', social_contacts=500),\n",
    "    User(id=3, age=33, gender='female', social_contacts=800)\n",
    "]\n",
    "\n",
    "def MAP(_, row: NamedTuple):\n",
    "    if row.social_contacts > 300:\n",
    "        yield (row, row)\n",
    "\n",
    "def REDUCE(row: str, rows: Iterator[NamedTuple]):\n",
    "    yield (row, rows)\n",
    "\n",
    "def RECORDREADER():\n",
    "    return [(u.id, u) for u in input_collection]\n",
    "\n",
    "output = MapReduce(RECORDREADER, MAP, REDUCE)\n",
    "output = list(output)\n",
    "output\n",
    "     "
   ]
  },
  {
   "cell_type": "markdown",
   "metadata": {
    "id": "w27Ca-_Ku85V"
   },
   "source": [
    "### Projection (Проекция)\n",
    "\n",
    "Проекция на множество атрибутов $S$.\n",
    "\n",
    "**The Map Function:** Для каждого кортежа $t \\in R$ создайте кортеж $t′$, исключая  из $t$ те значения, атрибуты которых не принадлежат  $S$. Верните пару $(t′, t′)$.\n",
    "\n",
    "**The Reduce Function:** Для каждого ключа $t′$, созданного любой Map задачей, вы получаете одну или несколько пар $(t′, t′)$. Reduce функция преобразует $(t′, [t′, t′, . . . , t′])$ в $(t′, t′)$, так, что для ключа $t′$ возвращается одна пара  $(t′, t′)$."
   ]
  },
  {
   "cell_type": "code",
   "execution_count": 76,
   "metadata": {
    "id": "BEvuY4GqvhS6"
   },
   "outputs": [
    {
     "data": {
      "text/plain": [
       "[(55, [55, 55]), (25, [25, 25]), (33, [33])]"
      ]
     },
     "execution_count": 76,
     "metadata": {},
     "output_type": "execute_result"
    }
   ],
   "source": [
    "input_collection = [\n",
    "    User(id=0, age=55, gender='male', social_contacts=20),\n",
    "    User(id=0, age=55, gender='male', social_contacts=20),\n",
    "    User(id=1, age=25, gender='female', social_contacts=240),\n",
    "    User(id=2, age=25, gender='female', social_contacts=500),\n",
    "    User(id=3, age=33, gender='female', social_contacts=800)\n",
    "]\n",
    "\n",
    "def RECORDREADER():\n",
    "    return [(u.id, u) for u in input_collection]\n",
    "\n",
    "def MAP(_, rec):\n",
    "    yield (rec.age, rec.age)\n",
    "\n",
    "def REDUCE(row: str, rows: Iterator[NamedTuple]):\n",
    "    yield (row, rows)\n",
    "\n",
    "output = MapReduce(RECORDREADER, MAP, REDUCE)\n",
    "output = list(output)\n",
    "output"
   ]
  },
  {
   "cell_type": "markdown",
   "metadata": {
    "id": "7gau6lKXvn2R"
   },
   "source": [
    "### Union (Объединение)\n",
    "\n",
    "**The Map Function:** Превратите каждый входной кортеж $t$ в пару ключ-значение $(t, t)$.\n",
    "\n",
    "**The Reduce Function:** С каждым ключом $t$ будет ассоциировано одно или два значений. В обоих случаях создайте $(t, t)$ в качестве выходного значения."
   ]
  },
  {
   "cell_type": "code",
   "execution_count": 77,
   "metadata": {
    "id": "Sns7a5agv3nw"
   },
   "outputs": [
    {
     "data": {
      "text/plain": [
       "[(User(id=0, age=55, social_contacts=20, gender='male'), None),\n",
       " (User(id=1, age=25, social_contacts=240, gender='female'), None),\n",
       " (User(id=2, age=25, social_contacts=500, gender='female'), None),\n",
       " (User(id=3, age=33, social_contacts=800, gender='female'), None),\n",
       " (User(id=4, age=33, social_contacts=973, gender='male'), None)]"
      ]
     },
     "execution_count": 77,
     "metadata": {},
     "output_type": "execute_result"
    }
   ],
   "source": [
    "input_collection_1 = [\n",
    "    User(id=0, age=55, gender='male', social_contacts=20),\n",
    "    User(id=1, age=25, gender='female', social_contacts=240),\n",
    "    User(id=2, age=25, gender='female', social_contacts=500),\n",
    "    User(id=3, age=33, gender='female', social_contacts=800)\n",
    "]\n",
    "\n",
    "input_collection_2 = [\n",
    "    User(id=2, age=25, gender='female', social_contacts=500),\n",
    "    User(id=3, age=33, gender='female', social_contacts=800),\n",
    "    User(id=4, age=33, gender=\"male\", social_contacts=973),\n",
    "]\n",
    "\n",
    "def MAP(_, value):\n",
    "    yield (value, None)\n",
    "\n",
    "def REDUCE(key, value):\n",
    "    yield (key, None)\n",
    "\n",
    "def RECORDREADER():\n",
    "    return [(u.id, u) for u in input_collection_1 + input_collection_2]\n",
    "\n",
    "output = MapReduce(RECORDREADER, MAP, REDUCE)\n",
    "output = list(output)\n",
    "output"
   ]
  },
  {
   "cell_type": "markdown",
   "metadata": {
    "id": "dQ8TuEbjv4J8"
   },
   "source": [
    "### Intersection (Пересечение)\n",
    "\n",
    "**The Map Function:** Превратите каждый кортеж $t$ в пары ключ-значение $(t, t)$.\n",
    "\n",
    "**The Reduce Function:** Если для ключа $t$ есть список из двух элементов $[t, t]$ $-$ создайте пару $(t, t)$. Иначе, ничего не создавайте."
   ]
  },
  {
   "cell_type": "code",
   "execution_count": 78,
   "metadata": {
    "id": "XKlBZh4IwERR"
   },
   "outputs": [
    {
     "data": {
      "text/plain": [
       "[[User(id=2, age=25, social_contacts=500, gender='female'),\n",
       "  User(id=2, age=25, social_contacts=500, gender='female')],\n",
       " [User(id=3, age=33, social_contacts=800, gender='female'),\n",
       "  User(id=3, age=33, social_contacts=800, gender='female')]]"
      ]
     },
     "execution_count": 78,
     "metadata": {},
     "output_type": "execute_result"
    }
   ],
   "source": [
    "def MAP(_, row: NamedTuple):\n",
    "    yield (row.id, row)\n",
    "\n",
    "def REDUCE(row_id: int, rows: Iterator[NamedTuple]):\n",
    "    if len(rows) == 2:\n",
    "        yield rows \n",
    "\n",
    "def RECORDREADER():\n",
    "    return [(u.id, u) for u in input_collection_1 + input_collection_2]\n",
    "\n",
    "output = MapReduce(RECORDREADER, MAP, REDUCE)\n",
    "output = list(output)\n",
    "output"
   ]
  },
  {
   "cell_type": "markdown",
   "metadata": {
    "id": "AVOpqoY3wE5k"
   },
   "source": [
    "### Difference (Разница)\n",
    "\n",
    "**The Map Function:** Для кортежа $t \\in R$, создайте пару $(t, R)$, и для кортежа $t \\in S$, создайте пару $(t, S)$. Задумка заключается в том, чтобы значение пары было именем отношения $R$ or $S$, которому принадлежит кортеж (а лучше, единичный бит, по которому можно два отношения различить $R$ or $S$), а не весь набор атрибутов отношения.\n",
    "\n",
    "**The Reduce Function:** Для каждого ключа $t$, если соответствующее значение является списком $[R]$, создайте пару $(t, t)$. В иных случаях не предпринимайте действий."
   ]
  },
  {
   "cell_type": "code",
   "execution_count": 79,
   "metadata": {
    "id": "QE_AC09lwZIZ"
   },
   "outputs": [
    {
     "data": {
      "text/plain": [
       "[User(id=0, age=55, social_contacts=20, gender='male'),\n",
       " User(id=1, age=25, social_contacts=240, gender='female'),\n",
       " User(id=4, age=33, social_contacts=973, gender='male')]"
      ]
     },
     "execution_count": 79,
     "metadata": {},
     "output_type": "execute_result"
    }
   ],
   "source": [
    "def RECORDREADER():\n",
    "    return [(0, a) for a in input_collection_1] + [(0, b) for b in input_collection_2]\n",
    "\n",
    "def MAP(collection_id, user):\n",
    "    yield (user, collection_id)\n",
    "\n",
    "def REDUCE(user, collections):\n",
    "    if collections == [0]:\n",
    "        yield user\n",
    "\n",
    "output = MapReduce(RECORDREADER, MAP, REDUCE)\n",
    "output = list(output)\n",
    "output"
   ]
  },
  {
   "cell_type": "markdown",
   "metadata": {
    "id": "j8I58V2VwhSm"
   },
   "source": [
    "### Natural Join\n",
    "\n",
    "**The Map Function:** Для каждого кортежа $(a, b)$ отношения $R$, создайте пару $(b,(R, a))$. Для каждого кортежа $(b, c)$ отношения $S$, создайте пару $(b,(S, c))$.\n",
    "\n",
    "**The Reduce Function:** Каждый ключ $b$ будет асоциирован со списком пар, которые принимают форму либо $(R, a)$, либо $(S, c)$. Создайте все пары, одни, состоящие из  первого компонента $R$, а другие, из первого компонента $S$, то есть $(R, a)$ и $(S, c)$. На выходе вы получаете последовательность пар ключ-значение из списков ключей и значений. Ключ не нужен. Каждое значение, это тройка $(a, b, c)$ такая, что $(R, a)$ и $(S, c)$ это принадлежат входному списку значений."
   ]
  },
  {
   "cell_type": "code",
   "execution_count": 80,
   "metadata": {
    "id": "yHiuuTctw86I"
   },
   "outputs": [
    {
     "data": {
      "text/plain": [
       "[(User(id=1, age=25, social_contacts=20, gender='male', job_id=1),\n",
       "  1,\n",
       "  Job(id=1, name='Doctor')),\n",
       " (User(id=5, age=24, social_contacts=800, gender='female', job_id=1),\n",
       "  1,\n",
       "  Job(id=1, name='Doctor')),\n",
       " (User(id=2, age=25, social_contacts=240, gender='female', job_id=2),\n",
       "  2,\n",
       "  Job(id=2, name='Nerce')),\n",
       " (User(id=3, age=22, social_contacts=642, gender='male', job_id=2),\n",
       "  2,\n",
       "  Job(id=2, name='Nerce')),\n",
       " (User(id=4, age=54, social_contacts=123, gender='female', job_id=3),\n",
       "  3,\n",
       "  Job(id=3, name='Teacher'))]"
      ]
     },
     "execution_count": 80,
     "metadata": {},
     "output_type": "execute_result"
    }
   ],
   "source": [
    "class User(NamedTuple):\n",
    "    id: int\n",
    "    age: str\n",
    "    social_contacts: int\n",
    "    gender: str\n",
    "    job_id: int\n",
    "\n",
    "class Job(NamedTuple):\n",
    "    id: int\n",
    "    name: str\n",
    "\n",
    "users_collection = [\n",
    "    User(id=1, age=25, gender=\"male\", social_contacts=20, job_id=1),\n",
    "    User(id=2, age=25, gender=\"female\", social_contacts=240, job_id=2),\n",
    "    User(id=3, age=22, gender=\"male\", social_contacts=642, job_id=2),\n",
    "    User(id=4, age=54, gender=\"female\", social_contacts=123, job_id=3),\n",
    "    User(id=5, age=24, gender=\"female\", social_contacts=800, job_id=1),\n",
    "]\n",
    "\n",
    "job_collection = [\n",
    "    Job(id=1, name=\"Doctor\"),\n",
    "    Job(id=2, name=\"Nerce\"),\n",
    "    Job(id=3, name=\"Teacher\"),\n",
    "    Job(id=4, name=\"Driver\"),\n",
    "]\n",
    "\n",
    "def RECORDREADER():\n",
    "    return [(user.job_id, user) for user in users_collection] + [(job.id, job) for job in job_collection]\n",
    "\n",
    "def MAP(job_id, row):\n",
    "    yield (job_id, row)\n",
    "\n",
    "def REDUCE(job_id, rows):\n",
    "    users = []\n",
    "    job = None\n",
    "    for row in rows:\n",
    "        if type(row) is User:\n",
    "            users += [row]\n",
    "        else:\n",
    "            job = row\n",
    "    for row in rows:\n",
    "        if type(row) is User:\n",
    "            yield(row, row.job_id, job)\n",
    "\n",
    "output = MapReduce(RECORDREADER, MAP, REDUCE)\n",
    "output = list(output)\n",
    "output  "
   ]
  },
  {
   "cell_type": "markdown",
   "metadata": {
    "id": "kYdlr0YUxE27"
   },
   "source": [
    "### Grouping and Aggregation (Группировка и аггрегация)\n",
    "\n",
    "**The Map Function:** Для каждого кортежа $(a, b, c$) создайте пару $(a, b)$.\n",
    "\n",
    "**The Reduce Function:** Ключ представляет ту или иную группу. Примение аггрегирующую операцию $\\theta$ к списку значений $[b1, b2, . . . , bn]$ ассоциированных с ключом $a$. Возвращайте в выходной поток $(a, x)$, где $x$ результат применения  $\\theta$ к списку. Например, если $\\theta$ это $SUM$, тогда $x = b1 + b2 + · · · + bn$, а если $\\theta$ is $MAX$, тогда $x$ это максимальное из значений $b1, b2, . . . , bn$."
   ]
  },
  {
   "cell_type": "code",
   "execution_count": 81,
   "metadata": {
    "id": "MLPckfEGxico"
   },
   "outputs": [
    {
     "data": {
      "text/plain": [
       "[(User(id=1, age=25, social_contacts=20, gender='male', job_id=1),\n",
       "  1,\n",
       "  Job(id=1, name='Doctor')),\n",
       " (User(id=5, age=24, social_contacts=800, gender='female', job_id=1),\n",
       "  1,\n",
       "  Job(id=1, name='Doctor')),\n",
       " (User(id=2, age=25, social_contacts=240, gender='female', job_id=2),\n",
       "  2,\n",
       "  Job(id=2, name='Nerce')),\n",
       " (User(id=3, age=22, social_contacts=642, gender='male', job_id=2),\n",
       "  2,\n",
       "  Job(id=2, name='Nerce')),\n",
       " (User(id=4, age=54, social_contacts=123, gender='female', job_id=3),\n",
       "  3,\n",
       "  Job(id=3, name='Teacher'))]"
      ]
     },
     "execution_count": 81,
     "metadata": {},
     "output_type": "execute_result"
    }
   ],
   "source": [
    "def MAP(job_id, user, job):\n",
    "    yield (job_id, user)\n",
    "\n",
    "def REDUCE(job_id, rows):\n",
    "    yield f\"job_id = {job_id} has {len(rows)} user(s)\"\n",
    "\n",
    "def RECORDREADER():\n",
    "    return [(jon_id, user, job) for user, jon_id, job in output]\n",
    "\n",
    "output1 = MapReduce(RECORDREADER, MAP, REDUCE)\n",
    "output1 = list(output1)\n",
    "output"
   ]
  },
  {
   "cell_type": "markdown",
   "metadata": {
    "id": "03IffTEOJgOb"
   },
   "source": [
    "## Вычисление TF-IDF (Term Frequency – Inverse Document Fraquency)\n",
    "\n",
    "Реализуется в три этапа:\n",
    "\n",
    "**Этап 1:** Частота слова в документе\n",
    "\n",
    "**Этап 2:** Количество документов, в которых встречается слово\n",
    "\n",
    "**Этап 3:** Расчёт TF-IDF"
   ]
  },
  {
   "cell_type": "code",
   "execution_count": 83,
   "metadata": {},
   "outputs": [
    {
     "name": "stdout",
     "output_type": "stream",
     "text": [
      "    вместе   играют    ковре     кошка     лежит     ловит      мышь  \\\n",
      "0  0.00000  0.00000  0.57458  0.366747  0.000000  0.000000  0.000000   \n",
      "1  0.00000  0.00000  0.00000  0.000000  0.555283  0.000000  0.000000   \n",
      "2  0.57458  0.57458  0.00000  0.366747  0.000000  0.000000  0.000000   \n",
      "3  0.00000  0.00000  0.00000  0.411378  0.000000  0.644503  0.644503   \n",
      "\n",
      "         на      полу    сидит    собака  \n",
      "0  0.453005  0.000000  0.57458  0.000000  \n",
      "1  0.437791  0.555283  0.00000  0.437791  \n",
      "2  0.000000  0.000000  0.00000  0.453005  \n",
      "3  0.000000  0.000000  0.00000  0.000000  \n"
     ]
    }
   ],
   "source": [
    "from sklearn.feature_extraction.text import TfidfVectorizer\n",
    "\n",
    "# Пример документов\n",
    "documents = [\n",
    "    \"Кошка сидит на ковре\",\n",
    "    \"Собака лежит на полу\",\n",
    "    \"Кошка и собака играют вместе\",\n",
    "    \"Кошка ловит мышь\"\n",
    "]\n",
    "\n",
    "# Создание объекта TfidfVectorizer\n",
    "vectorizer = TfidfVectorizer()\n",
    "\n",
    "# Преобразование документов в матрицу TF-IDF\n",
    "tfidf_matrix = vectorizer.fit_transform(documents)\n",
    "\n",
    "# Получение словаря терминов\n",
    "feature_names = vectorizer.get_feature_names_out()\n",
    "\n",
    "# Преобразование матрицы в массив\n",
    "dense = tfidf_matrix.todense()\n",
    "\n",
    "# Преобразование в DataFrame для удобства\n",
    "import pandas as pd\n",
    "\n",
    "df_tfidf = pd.DataFrame(dense, columns=feature_names)\n",
    "\n",
    "# Вывод результата\n",
    "print(df_tfidf)"
   ]
  },
  {
   "cell_type": "markdown",
   "metadata": {
    "id": "IIrRgvG4RIS4"
   },
   "source": [
    "### Matrix-Vector multiplication\n",
    "\n",
    "Случай, когда вектор не помещается в памяти Map задачи\n"
   ]
  },
  {
   "cell_type": "code",
   "execution_count": 82,
   "metadata": {
    "id": "KQhDbiL3zS9r"
   },
   "outputs": [
    {
     "data": {
      "text/plain": [
       "[(0, np.float64(3.1725454531424213)),\n",
       " (1, np.float64(3.1725454531424213)),\n",
       " (2, np.float64(3.1725454531424213)),\n",
       " (3, np.float64(3.1725454531424213)),\n",
       " (4, np.float64(3.1725454531424213))]"
      ]
     },
     "execution_count": 82,
     "metadata": {},
     "output_type": "execute_result"
    }
   ],
   "source": [
    "from typing import Iterator\n",
    "import numpy as np\n",
    "\n",
    "n = 4\n",
    "mat = np.ones((5, n))\n",
    "vec1 = np.random.rand(n // 2)\n",
    "vec2 = np.random.rand(n - n // 2)\n",
    "\n",
    "def MAP(coordinates:(int, int), value:int):\n",
    "    i, j = coordinates\n",
    "    if (j < len(vec1)):\n",
    "        yield (i, value * vec1[j])\n",
    "    else:\n",
    "        yield (i, value * vec2[j - len(vec1)])\n",
    "\n",
    "def REDUCE(i:int, products:Iterator[NamedTuple]):\n",
    "    sum = 0\n",
    "    for p in products:\n",
    "        sum += p\n",
    "    yield (i, sum)\n",
    "\n",
    "def RECORDREADER():\n",
    "    for i in range(mat.shape[0]):\n",
    "        for j in range(mat.shape[1]):\n",
    "            yield ((i, j), mat[i, j])\n",
    "\n",
    "output = MapReduce(RECORDREADER, MAP, REDUCE)\n",
    "output = list(output)\n",
    "output"
   ]
  },
  {
   "cell_type": "markdown",
   "metadata": {
    "id": "GIo2t7nNxvA9"
   },
   "source": [
    "## Matrix multiplication (Перемножение матриц)\n",
    "\n",
    "Если у нас есть матрица $M$ с элементами $m_{ij}$ в строке $i$ и столбце $j$, и матрица $N$ с элементами $n_{jk}$ в строке $j$ и столбце $k$, тогда их произведение $P = MN$ есть матрица $P$ с элементами $p_{ik}$ в строке $i$ и столбце $k$, где\n",
    "\n",
    "$$p_{ik} =\\sum_{j} m_{ij}n_{jk}$$\n",
    "\n",
    "Необходимым требованием является одинаковое количество столбцов в $M$ и строк в $N$, чтобы операция суммирования по  $j$ была осмысленной. Мы можем размышлять о матрице, как об отношении с тремя атрибутами: номер строки, номер столбца, само значение. Таким образом матрица $M$ предстваляется как отношение $ M(I, J, V )$, с кортежами $(i, j, m_{ij})$, и, аналогично, матрица $N$ представляется как отношение $N(J, K, W)$, с кортежами $(j, k, n_{jk})$. Так как большие матрицы как правило разреженные (большинство значений равно 0), и так как мы можем нулевыми значениями пренебречь (не хранить), такое реляционное представление достаточно эффективно для больших матриц. Однако, возможно, что координаты $i$, $j$, и $k$ неявно закодированы в смещение позиции элемента относительно начала файла, вместо явного хранения. Тогда, функция Map (или Reader) должна быть разработана таким образом, чтобы реконструировать компоненты $I$, $J$, и $K$ кортежей из смещения.\n",
    "\n",
    "Произведение $MN$ это фактически join, за которым следуют группировка по ключу и аггрегация. Таким образом join отношений $M(I, J, V )$ и $N(J, K, W)$, имеющих общим только атрибут $J$, создаст кортежи $(i, j, k, v, w)$ из каждого кортежа $(i, j, v) \\in M$ и кортежа $(j, k, w) \\in N$. Такой 5 компонентный кортеж представляет пару элементов матрицы $(m_{ij} , n_{jk})$. Что нам хотелось бы получить на самом деле, это произведение этих элементов, то есть, 4 компонентный кортеж$(i, j, k, v \\times w)$, так как он представляет произведение $m_{ij}n_{jk}$. Мы представляем отношение как результат одной MapReduce операции, в которой мы можем произвести группировку и аггрегацию, с $I$ и $K$  атрибутами, по которым идёт группировка, и суммой  $V \\times W$. \n",
    "\n",
    "\n",
    "\n"
   ]
  },
  {
   "cell_type": "code",
   "execution_count": 28,
   "metadata": {
    "id": "1MBkGaLAYVCt"
   },
   "outputs": [],
   "source": [
    "# MapReduce model\n",
    "def flatten(nested_iterable):\n",
    "  for iterable in nested_iterable:\n",
    "    for element in iterable:\n",
    "      yield element\n",
    "\n",
    "def groupbykey(iterable):\n",
    "  t = {}\n",
    "  for (k2, v2) in iterable:\n",
    "    t[k2] = t.get(k2, []) + [v2]\n",
    "  return t.items()\n",
    "\n",
    "def MapReduce(RECORDREADER, MAP, REDUCE):\n",
    "  return flatten(map(lambda x: REDUCE(*x), groupbykey(flatten(map(lambda x: MAP(*x), RECORDREADER())))))"
   ]
  },
  {
   "cell_type": "markdown",
   "metadata": {
    "id": "sMspsOT0ZB35"
   },
   "source": [
    "Реализуйте перемножение матриц с использованием модельного кода MapReduce для одной машины в случае, когда одна матрица хранится в памяти, а другая генерируется RECORDREADER-ом."
   ]
  },
  {
   "cell_type": "code",
   "execution_count": 29,
   "metadata": {
    "id": "psP1XekbsEjS"
   },
   "outputs": [],
   "source": [
    "import numpy as np\n",
    "I = 2\n",
    "J = 3\n",
    "K = 4*10\n",
    "small_mat = np.random.rand(I,J) # it is legal to access this from RECORDREADER, MAP, REDUCE\n",
    "big_mat = np.random.rand(J,K)\n",
    "\n",
    "def RECORDREADER():\n",
    "  for j in range(big_mat.shape[0]):\n",
    "    for k in range(big_mat.shape[1]):\n",
    "      yield ((j,k), big_mat[j,k])\n",
    "      \n",
    "def MAP(k1, v1):\n",
    "  (j, k) = k1\n",
    "  for i in range(small_mat.shape[0]):\n",
    "    yield ((i, k), small_mat[i][j] * v1)\n",
    "  \n",
    "def REDUCE(key, values):\n",
    "  yield (key, sum(values))"
   ]
  },
  {
   "cell_type": "markdown",
   "metadata": {
    "id": "rnt306LHhHrm"
   },
   "source": [
    "Проверьте своё решение"
   ]
  },
  {
   "cell_type": "code",
   "execution_count": 30,
   "metadata": {
    "colab": {
     "base_uri": "https://localhost:8080/",
     "height": 34
    },
    "id": "Ewy_ZNYqW5a2",
    "outputId": "9ce264f2-9412-44e2-9b0a-cc780573ab3a"
   },
   "outputs": [
    {
     "data": {
      "text/plain": [
       "True"
      ]
     },
     "execution_count": 30,
     "metadata": {},
     "output_type": "execute_result"
    }
   ],
   "source": [
    "# CHECK THE SOLUTION\n",
    "reference_solution = np.matmul(small_mat, big_mat) \n",
    "solution = MapReduce(RECORDREADER, MAP, REDUCE)\n",
    "\n",
    "def asmatrix(reduce_output):\n",
    "  reduce_output = list(reduce_output)\n",
    "  I = max(i for ((i,k), vw) in reduce_output)+1\n",
    "  K = max(k for ((i,k), vw) in reduce_output)+1\n",
    "  mat = np.empty(shape=(I,K))\n",
    "  for ((i,k), vw) in reduce_output:\n",
    "    mat[i,k] = vw\n",
    "  return mat\n",
    "\n",
    "np.allclose(reference_solution, asmatrix(solution)) # should return true"
   ]
  },
  {
   "cell_type": "code",
   "execution_count": 31,
   "metadata": {
    "colab": {
     "base_uri": "https://localhost:8080/",
     "height": 34
    },
    "id": "TK7v4CEcfxqf",
    "outputId": "2c865d0a-4065-4e6b-c83f-5508ed5eb4fa"
   },
   "outputs": [
    {
     "data": {
      "text/plain": [
       "1"
      ]
     },
     "execution_count": 31,
     "metadata": {},
     "output_type": "execute_result"
    }
   ],
   "source": [
    "reduce_output = list(MapReduce(RECORDREADER, MAP, REDUCE))\n",
    "max(i for ((i,k), vw) in reduce_output)"
   ]
  },
  {
   "cell_type": "markdown",
   "metadata": {
    "id": "i4yyg3kOZqJJ"
   },
   "source": [
    "Реализуйте перемножение матриц  с использованием модельного кода MapReduce для одной машины в случае, когда обе матрицы генерируются в RECORDREADER. Например, сначала одна, а потом другая."
   ]
  },
  {
   "cell_type": "code",
   "execution_count": 33,
   "metadata": {
    "id": "3B7rIAJCaHZq"
   },
   "outputs": [
    {
     "data": {
      "text/plain": [
       "True"
      ]
     },
     "execution_count": 33,
     "metadata": {},
     "output_type": "execute_result"
    }
   ],
   "source": [
    "I = 2\n",
    "J = 3\n",
    "K = 4 * 10\n",
    "small_mat = np.random.rand(I, J)\n",
    "big_mat = np.random.rand(J, K)\n",
    "\n",
    "def RECORDREADER():\n",
    "  for i in range (small_mat.shape[0]):\n",
    "    for j in range(big_mat.shape[0]):\n",
    "      for k in range(big_mat.shape[1]):\n",
    "        yield (((i, j), small_mat[i,j]), ((j, k), big_mat[j,k]))\n",
    "\n",
    "def MAP(mat1, mat2):\n",
    "  (k1, v1) = mat1\n",
    "  (k2, v2) = mat2\n",
    "  (i, _) = k1\n",
    "  (_, k) = k2\n",
    "  yield ((i, k), v1 * v2)\n",
    "\n",
    "def REDUCE(key, values):\n",
    "  yield (key, sum(values))\n",
    "\n",
    "# CHECK THE SOLUTION\n",
    "reference_solution = np.matmul(small_mat, big_mat)\n",
    "solution = MapReduce(RECORDREADER, MAP, REDUCE)\n",
    "\n",
    "def asmatrix(reduce_output):\n",
    "    reduce_output = list(reduce_output)\n",
    "    I = max(i for ((i, k), vw) in reduce_output) + 1\n",
    "    K = max(k for ((i, k), vw) in reduce_output) + 1\n",
    "    mat = np.empty(shape=(I, K))\n",
    "    for (i, k), vw in reduce_output:\n",
    "        mat[i, k] = vw\n",
    "    return mat\n",
    "\n",
    "np.allclose(reference_solution, asmatrix(solution))  # should return true"
   ]
  },
  {
   "cell_type": "markdown",
   "metadata": {
    "id": "mXyzQi1DaIwo"
   },
   "source": [
    "Реализуйте перемножение матриц с использованием модельного кода MapReduce Distributed, когда каждая матрица генерируется в своём RECORDREADER. "
   ]
  },
  {
   "cell_type": "code",
   "execution_count": 34,
   "metadata": {
    "id": "TDM_s78Rb5eR"
   },
   "outputs": [
    {
     "name": "stdout",
     "output_type": "stream",
     "text": [
      "240 key-value pairs were sent over a network.\n",
      "[[0.86077104 0.95539233 1.19541086 1.0852696  1.02341396 1.30070685\n",
      "  0.65599173 1.14535198 1.31443773 1.33713446 0.87398361 1.03083687\n",
      "  0.90933221 0.68314117 1.13353313 0.76996816 1.09794549 0.66761224\n",
      "  0.79829758 0.82153926 1.08313599 1.51365105 1.32660359 1.28608365\n",
      "  1.22259436 1.27087402 1.51459864 0.9253464  0.83539997 0.76027987\n",
      "  1.61580703 0.35530216 0.31871924 0.55981021 0.95715806 0.41512881\n",
      "  1.40142594 0.5950557  1.15750329 0.21286603]\n",
      " [0.94011835 0.91088322 1.47405317 1.24283198 1.37558961 1.59258371\n",
      "  1.03041671 1.47771466 1.487795   1.3161591  0.93243497 1.31643769\n",
      "  0.89916907 0.85716811 1.30809045 0.80295104 1.29414596 1.04053615\n",
      "  0.79432382 1.13739989 1.11532583 1.803932   1.4380002  1.62112441\n",
      "  1.27545602 1.35836324 1.89993065 1.06155617 0.91319811 0.80524582\n",
      "  1.78647045 0.450806   0.52842407 0.7824705  1.19346485 0.6441089\n",
      "  1.68900281 0.82121784 1.21068779 0.27296096]]\n"
     ]
    },
    {
     "data": {
      "text/plain": [
       "True"
      ]
     },
     "execution_count": 34,
     "metadata": {},
     "output_type": "execute_result"
    }
   ],
   "source": [
    "maps = 2\n",
    "reducers = 2\n",
    "\n",
    "def INPUTFORMAT():\n",
    "    global maps\n",
    "    def RECORDREADER(i_range):\n",
    "        for i in i_range:\n",
    "            for j in range(J):\n",
    "                for k in range(K):\n",
    "                    yield (((i, j), small_mat[i, j]), ((j, k), big_mat[j, k]))\n",
    "\n",
    "    split_size = int(np.ceil(I / maps))\n",
    "    for i in range(0, I, split_size):\n",
    "        yield RECORDREADER(range(i, i + split_size))\n",
    "\n",
    "def MAP(mat1, mat2):\n",
    "  (k1, v1) = mat1\n",
    "  (k2, v2) = mat2\n",
    "  (i, _) = k1\n",
    "  (_, k) = k2\n",
    "  yield ((i, k), v1 * v2)\n",
    "\n",
    "def REDUCE(key, values):\n",
    "  yield (key, sum(values))\n",
    "\n",
    "# try to set COMBINER=REDUCER and look at the number of values sent over the network\n",
    "partitioned_output = MapReduceDistributed(INPUTFORMAT, MAP, REDUCE, COMBINER=None)\n",
    "partitioned_output = [(partition_id, list(partition)) for (partition_id, partition) in partitioned_output]\n",
    "\n",
    "solution = []\n",
    "for output_part in partitioned_output:\n",
    "    for element in output_part[1]:\n",
    "        solution += [element]\n",
    "print(asmatrix(solution))\n",
    "np.allclose(reference_solution, asmatrix(solution))  # should return true"
   ]
  },
  {
   "cell_type": "markdown",
   "metadata": {
    "id": "ZuSA2P9Db6UM"
   },
   "source": [
    "Обобщите предыдущее решение на случай, когда каждая матрица генерируется несколькими RECORDREADER-ами, и проверьте его работоспособность. Будет ли работать решение, если RECORDREADER-ы будут генерировать случайное подмножество элементов матрицы?"
   ]
  },
  {
   "cell_type": "code",
   "execution_count": 103,
   "metadata": {
    "id": "ehN0FqRDcwU5"
   },
   "outputs": [
    {
     "ename": "SyntaxError",
     "evalue": "invalid syntax (3232461168.py, line 1)",
     "output_type": "error",
     "traceback": [
      "\u001b[1;36m  Cell \u001b[1;32mIn[103], line 1\u001b[1;36m\u001b[0m\n\u001b[1;33m    Да, решение будет работать.\u001b[0m\n\u001b[1;37m                ^\u001b[0m\n\u001b[1;31mSyntaxError\u001b[0m\u001b[1;31m:\u001b[0m invalid syntax\n"
     ]
    }
   ],
   "source": [
    "Да, решение будет работать."
   ]
  }
 ],
 "metadata": {
  "colab": {
   "provenance": []
  },
  "kernelspec": {
   "display_name": "Python 3",
   "language": "python",
   "name": "python3"
  },
  "language_info": {
   "codemirror_mode": {
    "name": "ipython",
    "version": 3
   },
   "file_extension": ".py",
   "mimetype": "text/x-python",
   "name": "python",
   "nbconvert_exporter": "python",
   "pygments_lexer": "ipython3",
   "version": "3.12.3"
  }
 },
 "nbformat": 4,
 "nbformat_minor": 1
}
